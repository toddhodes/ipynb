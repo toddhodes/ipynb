{
 "cells": [
  {
   "cell_type": "markdown",
   "metadata": {},
   "source": [
    "# Lab 31 January: The FFT and aliasing #\n",
    "\n",
    "## Goals ##\n",
    "\n",
    "After completing this lab you should be able to:\n",
    "\n",
    "* compute and visualise the magnitude spectrum for any audio or other one-dimensional signal\n",
    "* read in real-world audio files and manipulate them in Python\n",
    "* reason about aliasing in the frequency domain\n",
    "\n"
   ]
  },
  {
   "cell_type": "markdown",
   "metadata": {},
   "source": [
    "## Review ##\n",
    "\n",
    "Before you do this lab, please make sure you've completed <a href=\"https://learn.gold.ac.uk/mod/resource/view.php?id=407662\">Lab 12</a>. In that lab, you used code like the following to compute and plot the FFT:"
   ]
  },
  {
   "cell_type": "code",
   "execution_count": 1,
   "metadata": {},
   "outputs": [
    {
     "data": {
      "text/plain": [
       "[<matplotlib.lines.Line2D at 0x10afcb550>]"
      ]
     },
     "execution_count": 1,
     "metadata": {},
     "output_type": "execute_result"
    },
    {
     "data": {
      "image/png": "[encoded data removed]",
      "text/plain": [
       "<matplotlib.figure.Figure at 0x10af00f10>"
      ]
     },
     "metadata": {},
     "output_type": "display_data"
    }
   ],
   "source": [
    "t = np.arange(0, 1, 1/100) #Use 100Hz sample rate\n",
    "s = 0.5 * sin(2*pi*20*t) + 0.2 * sin(2*pi*30*t) #A 20Hz sine wave and a 30Hz sine wave\n",
    "spectrum = fft.fft(s);\n",
    "magspectrum = abs(spectrum)\n",
    "plot(magspectrum[0:50]) #Plot the first 50 of 100 bins (we covered this in last week's lecture)\n",
    "\n",
    "#Now you will see a peek at 20Hz and a shorter peek at 30Hz:"
   ]
  },
  {
   "cell_type": "markdown",
   "metadata": {},
   "source": [
    "## Part 1: Digging deeper into FFT ##\n",
    "\n",
    "You got lucky in Lab 12: Because we were analyzing a signal for exactly 1 second, the n-th element (or \"bin\") of the FFT corresponded to a frequency component of $n$ Hz. This won't always be the case, though! \n",
    "\n",
    "In IPython, you can use the `fft.fftfreq()` function to compute the frequencies associated with each bin in your spectrum array. This function returns array of frequencies, where the $n$-th element tells you the frequency of the $n$-th bin in your spectrum.\n",
    "\n",
    "The first argument is the length of the FFT, and the second argument is the time in-between samples (i.e., 1/sample_rate):"
   ]
  },
  {
   "cell_type": "code",
   "execution_count": 2,
   "metadata": {},
   "outputs": [
    {
     "data": {
      "text/plain": [
       "array([   0.        ,   43.06640625,   86.1328125 , ..., -129.19921875,\n",
       "        -86.1328125 ,  -43.06640625])"
      ]
     },
     "execution_count": 2,
     "metadata": {},
     "output_type": "execute_result"
    }
   ],
   "source": [
    "fft.fftfreq(1024, 1/44100) #gives us frequencies for a 1024-bin FFT at 44100Hz sample rate"
   ]
  },
  {
   "cell_type": "markdown",
   "metadata": {},
   "source": [
    "We can use array index notation to find the frequency corresponding to, for example, the 256th bin:"
   ]
  },
  {
   "cell_type": "code",
   "execution_count": 3,
   "metadata": {},
   "outputs": [
    {
     "data": {
      "text/plain": [
       "11025.0"
      ]
     },
     "execution_count": 3,
     "metadata": {},
     "output_type": "execute_result"
    }
   ],
   "source": [
    "fft.fftfreq(1024, 1/44100)[256]"
   ]
  },
  {
   "cell_type": "markdown",
   "metadata": {},
   "source": [
    "Before moving on to Part 2, test our your knowledge by doing the following:\n",
    "\n",
    "a. Create a signal that is the sum of three sines, at 200, 300, and 600 Hz. Choose a different amplitude for each sine, being careful that the amplitudes sum to something less than 1. This signal should be sampled at 44100 Hz, for a total duration of 1 second."
   ]
  },
  {
   "cell_type": "code",
   "execution_count": null,
   "metadata": {
    "collapsed": true
   },
   "outputs": [],
   "source": []
  },
  {
   "cell_type": "markdown",
   "metadata": {},
   "source": [
    "b. Use the `play` function to play your signal. Verify it sounds as you expect (either a single bright tone, or a few simultaneous tones, depending on how you set the amplitudes.)"
   ]
  },
  {
   "cell_type": "code",
   "execution_count": null,
   "metadata": {
    "collapsed": true
   },
   "outputs": [],
   "source": []
  },
  {
   "cell_type": "markdown",
   "metadata": {},
   "source": [
    "c. Compute the magnitude spectrum for __the first 1024 samples__ of your signal. Plot the spectrum, using bins 0 to 512 (i.e. from 0 to the Nyquist rate). Verify that it looks how you expect. \n",
    "\n"
   ]
  },
  {
   "cell_type": "code",
   "execution_count": null,
   "metadata": {
    "collapsed": true
   },
   "outputs": [],
   "source": []
  },
  {
   "cell_type": "markdown",
   "metadata": {},
   "source": [
    "d. \"Zoom in\" on your spectrum by plotting even fewer bins, for example bins 0 to 100, so that you can clearly see your three peaks."
   ]
  },
  {
   "cell_type": "code",
   "execution_count": null,
   "metadata": {
    "collapsed": true
   },
   "outputs": [],
   "source": []
  },
  {
   "cell_type": "markdown",
   "metadata": {},
   "source": [
    "e. Finally, make the plot really nice by plotting __frequency in Hz__, not bin index, on the x-axis.  For example, if you make a variable called `freqs` to store your 1024-length frequency array, and you store your magnitude spectrum in the variable `magspec`, you can plot the first 100 samples using the code below. (Careful: you'll get an error if the two arrays you pass to `plot` have different lengths!)"
   ]
  },
  {
   "cell_type": "code",
   "execution_count": null,
   "metadata": {
    "collapsed": true
   },
   "outputs": [],
   "source": []
  },
  {
   "cell_type": "markdown",
   "metadata": {},
   "source": [
    "## Part 2: Applying to a real-world sound ##\n",
    "\n",
    "a. Record a short sound (1-2 seconds, maximum) in Audacity, or use Audacity to select a 1-2 second snippet of a piece of music or other recording you already have. Save it as a .wav file with a 44100Hz sample rate (should be the default rate).\n",
    "\n",
    "b. Load the .wav file into a new array variable called `mySound` using the following code, obviously replacing the file path with the correct path on your system:\n"
   ]
  },
  {
   "cell_type": "code",
   "execution_count": 5,
   "metadata": {},
   "outputs": [],
   "source": [
    "mySound = wavReadMono(\"/Users/todd/.pyenv/versions/2.7.8/lib/python2.7/test/audiodata/pluck-pcm16.wav\")"
   ]
  },
  {
   "cell_type": "markdown",
   "metadata": {},
   "source": [
    "c. Verify your sound has loaded correctly by playing it and/or plotting the waveform:"
   ]
  },
  {
   "cell_type": "code",
   "execution_count": 6,
   "metadata": {},
   "outputs": [
    {
     "data": {
      "text/html": [
       "\n",
       "        <head>\n",
       "        <meta http-equiv=\"Content-Type\" content=\"text/html; charset=utf-8\">\n",
       "        <title>Simple Test</title>\n",
       "        </head>\n",
       "        \n",
       "        <body>\n",
       "        <audio controls=\"controls\" style=\"width:600px\" >\n",
       "        <source controls src=\"data:audio/wav;base64,UklGRvoZAABXQVZFZm10IBAAAAABAAEARKwAAIhYAQACABAAZGF0YdYZAAAMASomARuQxEnpTibN\n",
       "4PMAS9kB1LEKmwBH6VDUX/eq5+QcuvF+Aarng8kE+QECOe3aBSAdltwaM5LpTSZC6OExGgM2zCJK\n",
       "S8knLDkwiv/+7tD4zzZ0CWIbxi+EzvDiNydi7nT3weneyDcHQ/8S7TrQ5fGP5gcRtPw49cv288Hj\n",
       "9akBFvWg+dsoRdlrMAH4nRuJ/JoV4ySHy/NJetzHDG9CHvqb9eru+C+bEngOvDbM3ErVXiWW+Pjv\n",
       "V/VNxln/VwSI7+DT4+t36wgGQQnH7dgBvMPS7o4DQPp58SgrfODSImAMvAnSEcD80TglywhHcvvm\n",
       "6uNEpvwG9nDtAiT3HQIF3Da+7wPKkR/QBI3pK/yUyfXy9glY8JbYKOXz71b8phGW6xAG2czI41oG\n",
       "Ov5x7fomNO45D4IhR/qIHXPxCz2/yuwkrx+wzhREKwqH7wfxThaMJmsBvS9OBIHIsxQtElXlqf77\n",
       "0WXluQ158lTcDOBS8rr1qhQc7yYE/NpN2SoHlwIB7NweiP1Y/PIvc/RrHszxLDQF1EUAmT1gxec8\n",
       "syEP5zn0Dw3iKPsEYyQrFwjJCwVhHhHl//tO3cXYGA0r9+bdS90w8lzyWxOg9mT/kumn03wECQg8\n",
       "7R0U/Qx/7qkyVfnWFuv45SUd7VLgk0bGzesf1jhR5ZzwrAnoJU0LEBoaI37OEPImJ8DqH/SA6avQ\n",
       "pAad/sDeXdsk8WDxRw+j/9z6f/VC05P9eA1j8BgIfxgC6O8pnwV8CqIBeRhOAmbNWUar5nsAyUIk\n",
       "75rngAjVIncQrxJ7KITdO+GoKKD2ZOqt8lDPyvoeBk7hmNi/77jxoAkuCLf4+/xI2OX0NBFQ9qP8\n",
       "5h0k6tgawhIWAVMGxg4JEUTIYzZWA3zonELQA47digSqIl8TxQ17KUju5tSIIYwF6eJN9TTU+uz7\n",
       "CevnTdWo7Rj0/QPADoP6aAD84Gjt2xAO/q/zRRyd8igJShtv/t4FAgn8GYjN9h1mHXXd/zwrHBfa\n",
       "GvqSIz8X6ghgJx/++c4EFJMU1+A58czcL+LxB3vxFtTZ6A348f+EEYv/eAHO6UzopwyYBWPulhSO\n",
       "/M/6lByiASEDmQVJHqXZHQaBLq7g9CbKMB/h5ut6IREetgR2IYkNq8/uAhUfHeY76Y/k3NzlAGX6\n",
       "LtdI4pj6GP8CEaIFtgIJ8YXmowYZC+ztaQlKBT/zVhcUBw8CEwIjH/LpyPJJMwbu7g8ZOX3xld4e\n",
       "GG8mTQSqF40Zsdc18Nkio/L64Gnnad1P+MX/td5b3N/5ggGAD3cKzgQL9zzmRf84DWLwZv1RCZzx\n",
       "rQ5rDNgDHQAnHb777OaMLawAOP8CNbYDyNidB34ragoQDKQeU+ZM4r8d6QJz3oTktOB38hsA8Oa7\n",
       "2Rr11wPtDkcN1AaR/M7n2/e+DF31pfM4CO3zmwavDnAHagBGGKkKXORYIZUQnvcnKT0TQ9wf9lYp\n",
       "YRXxBDocBvdv3JIRhg8Z48XeBeFx77f+i+2w2gXwvQTiDyAQuAgYAQjrnfEzCZv6be30AvL3TAGW\n",
       "DkgLrgMTEzYVt+jKERAZxPdcG6Qag+Uo6L4fdyCJBegVBgRh36ADehUp7dfaMd3k7Mz9d/JD3Wzr\n",
       "SQSCESUTmgpiBC7vSOydAgf+tep5+0P6uf7kDa4OvAg7ECEbNfGZBOEazfu6DukaIPBX4RASKycX\n",
       "DWsQ7go85+n5zhRO90zbv9cE6Pj8GveH4GrndQIxE34WxQxrBpDzSekA+1n/lute9F76b/4cDiwR\n",
       "oA0ADwkdXfrZ+oIWkv/rBaUXIvoA4W0Feig9FzYPbQ3S7vDyGA/X/XLeVtMJ4er6OP3v5lzl5f/8\n",
       "FIMaVQ+8Bmj2d+fJ8t38WO2G72D5JP+jD9AUrRLCD7EcngIL9JcNTgE2AGsS/wAT5Zn7WiWcIRMT\n",
       "OA4F9L/uNwh+AeziHtEP2hL3qwK6733lYfvJFGcehBL1BVr3o+aL6374jO+s7Wf4u/81Ec4YKRez\n",
       "EAAaFQhl8HYDyABT/YoOEwda7Mz2KCCoKA8Z9Q5c9o3qQgA0Atvn89G51DPyRAeU+krplPYdEUIg\n",
       "fhZCBdz1fuWw5m705vGY7ub4VgG3EkQcsxpvETgVGQqy7qH5uP11+38MKg2s9Rj1HxlPK/8ecRAe\n",
       "95TlAPdvAevt5tUT0tjsmQnoBVHwD/LRCW8eUBqcBkL0ouPJ4jHxRvSx8JD5igIUE4ceXx06ElwQ\n",
       "5wnv7gHyYPoU+xwMqhLl/qL18xAUKSsj+RI2+KnhYu72/4L1rN1k0u3mFAgwDrH4K++4/xIYDR08\n",
       "C5D1nOJx32nuHfd19HT6ggK5ERofHx8eE6sLbwfT74ntA/hL+xwMvBeaCHT4+giQIhokORaL++Df\n",
       "1uVQ/Bz8j+fr1d7gIAKpElUCgPAC95MO1xz+EQz7aONs29bpc/gP+WL8OAIeDzoesyAsFdcIKwSV\n",
       "8KLqzfWO+/kLQhvvEC78PgHAGJMhYRl5AR3iPN9T9lgAf/Le3Knc9fhaEaEKDvbt8fQDZxhFF4sD\n",
       "JehD2ELizvX1/FYAdgP0C+AaryDeF4kIQAFy8GroSfT2/JQMkh1qF5oAxPtTDlIcgRtICZToM9xB\n",
       "7z8AEPsC5uDbOO8VCxMP1/2P8t370xCdGNELR/DJ2LTaSe8o/qsFIQgfC2oWyh3tGNIJBACW8IHm\n",
       "N/L+/WQNKB+CHO0En/cZBC8V0xtpEYnyD92Y5zL70/7r7mjftejFAlAPFgVc91r4Awl7FY4QPflf\n",
       "3RrWLecf+7oIRA7PDTATwxjBFpwKzwAJ837mqu+M/YwNJiBwIPwIyvR3+hUN9hobGUf+neFd4fPy\n",
       "qP0A9knmX+fy+xcMkAg+/BP4QwO+EKwRYQBI5IXVO+CW9WsI/BJiEp4SMhRkElMJdAHX9irpYO4B\n",
       "/MoLQh9SI8wNxfR48yAFMxjOHj4KQOnz3dbpMPhR+Rbux+q6+PQHLQh5/sf4UABaDb4RggXz6lnX\n",
       "vdvZ78cFYBUdF1UU1RE3DrgG4wBo+q/tA++V+pcI5xvuI3wSWPeE7xn+nxPwIMgTI/K/3UHi/vAX\n",
       "+S70JvDk+AcF/gXs/W34pv7SC2oSlQmU8HbZRNhw6iICyRXKGsMWCBH3CtkDb//I/G7y5/Dy+WYF\n",
       "TRd2Iv0VaPvn7oT53Q4sILcZKPpH4GPeXutH95v3bvQO+qADYQTc/HX3Cf21CjMT+wyJ9RPcMtb5\n",
       "5Vb+uxTeHNYYUBFkCRgCF/7v/R/2sPKz+fEC1RL4Hz4YoP8v8Bv31gqYHUMcNADf46PdduiP9bX4\n",
       "H/YY+rwCMwQ0/VD3hPvZCLYSAg/q+bnfS9ZD47P6zhFMHGEZDBL0CbUCF/47/t339fLd+FkBvw/u\n",
       "HcEZGwPB8cz12wezGsAcPgRv5+feMegB9bP4ivVJ+GsBCgVF/574k/pbBr8QTg9H/Q7kktjJ4vr3\n",
       "qw0XGbsXXhIrDN4FGQCB/gH4fvHm9hUA5A2jHAIb/AVE8y/13AXnF60bTQZV6j/hCero9Vv4TfPI\n",
       "9FD/OgZoAgP7XfrsAx4OXg5z/x3ozdvn44X2aglIFD8UmxGfDjcKlwNv/9T3ee869I3+KAwwG6wb\n",
       "hQhn9eX1LwV4FUEZPgYi7FPk3O2A+GL4YvBb8Kb8OQd3BWb9h/o8Aj0MdA2iABHrut6h5U72NQaD\n",
       "DwgQ2w9zEGUOdgfzAFH4X+758dP8pgljGB8bzQqI+F74IwZ8E7sVgwTR7DLnPPKw+4b4lu1t7GP6\n",
       "4gdSB2r+ZPqsAQ8Mhw1qAczsxOBx5972vgP+CssLxg23EeAR7QqhAqv52O698CD7XAYnFBEZRwzY\n",
       "+477EwhvEl0SOALn7E3psvVL/r/43us+6mz5SgiFB4v9ivnpATgNOQ6+Aejtm+JK6Yf3SQFCBogH\n",
       "sQuDElkUeQ0oBMT74vC98MP5zwIlDwwW8AzK/gX/5gq1EkoQzwA07cjq5fd//134Aeu86a35nAiP\n",
       "Bpz7n/ijApgOog6aASLvVeUJ7G74zP64AecD+AnAEnsV6Q6xBcX+WvSm8Z/4TP/bCVwSkwxkAD4B\n",
       "ZA3VE4YPqwBj7s7rcvgO/xb3Yuo66nn6vgh/BRn6e/jKA14P8g38AMLwj+iq7tz4RPzE/SMBUAi7\n",
       "EekUXA9yB4UCvfgy8xP49fyCBXsO0wo0AOYBGA9vFQMQ6QHQ8JHt7Pgo/on1wuma6sT6GAgJBCD5\n",
       "J/kRBYkPvwxpAODy8euY8L34cfo9+2P/iQahDzoTNQ/vCMQF2Pwk9aP4RvxWAtIKpAgb/3gBzw9n\n",
       "FpAQBAR59AXwdflC/Qb0Iul76tn5YAZ5AtH4ivqOBooP7gu6AHn15u628UD4KvmV+RD+pQQcDUoR\n",
       "3w4nClkIkgBa99j5rfwPAHQHTwZz/an/yA4+FsAQRgbA+AzzcPpm/cvzKukq6hH4rwN9AE/4TvtG\n",
       "B0QPtAsLAqf4sPFb8sn3bPgj+Gj8QAIYChEPNg7cCkQKCAQF+sX7TP4g/wkFfASw+0r9vAwGFTYQ\n",
       "Dwjb/EH2D/ys/u70M+oi6gr2lwAD/iX3C/vFBmYO2gsABBr8u/Sw81H4tfhR9+D62f/PBkQMqwyU\n",
       "Cg8LtQam/BD+uwA8/7ADzwOw+sL64wnREp8OxwgeAMT4V/2GAAv3IOz+6p707/38++X16/k7BbIM\n",
       "lwu5BSD/kfds9a35zvkY99X5/P2sAzQJhwp5CeAKiwj1/goAZwNPAHsDFARI+nX4yAYtEF4MbQgy\n",
       "An76UP6rAvr58O7T7Ef0H/xZ+p30DviRAgsKgwqGBkgBJvp595z7yfv699f5/PzvACQG+AdxB1sJ\n",
       "8whbAHsBEAYQAjsEqQVP+3b3jwSwDd8JSwcBA9v6M/4bBGL8s/FP7+b0dvsB+kj0nvb0/xwHzwhH\n",
       "BhsCt/sW+Wj99v2r+e/6R/13/xUE5wVLBSoHOwilAIcBdQdGA/sEnwco/Xf3RgMUDAEIRwZhA5b6\n",
       "Kf2CBOT9yvOX8bT1TPuP+un04PUD/rYEGweLBSYCd/zK+T3+dv8v+zP8Gf7M/vECtwS6A08FUAeN\n",
       "ANoA/gcWBEUFKAnx/g/4ngL0CvUGyAW9A1v6QPyOBNj+b/WB80n2MPtN+8H1dfV5/L0ClQW3BN4B\n",
       "5Pwx+pP+mwCw/Hj9IP+v/msCAQSIAq0DMgYzANP/1gdWBB8FYArTAAD5awJCCngGtAU0BFz6UPsV\n",
       "BCj/m/YC9Xf29/o1/Mr2dvWa+0cBWwQeBIsBEv1K+nL+KAHK/XT+IQDy/lECzAPkAaoCSgUGAK/+\n",
       "HAdFBJQE2wogAtv5DQKNCWUG5gW2BNL6zfqGA5b/xvcw9ob2ufrU/Kb3h/XQ+v7/RQOQAzABQf1R\n",
       "+gD+YQGo/ij/7gBE/0wCzQOZAQIChAQBANz9QQY1BOsD6wpCA8f6uQHDCIUGIAYsBaL7m/rrAvH/\n",
       "8Pg+95r2gvpF/WT4xfUn+sP+QgIKA8oAZP1c+oP9cwFz/8P/tQHT/3MC9QOOAaMBywMZACD9GgX3\n",
       "AysDlAoqBJ/7OgH2B7cGWwabBb/8h/o0AmEAA/od+ML2SPqL/S/5J/ae+cb9YgGHAnEAe/1O+tn8\n",
       "MgHr/yAAQgJgAJYCPwTMAZ4BTwNsAMD86wPcA24C4wnFBGH8kADxBtgGYgbkBe/9svqaAfAAKPsI\n",
       "+TP3N/q8/fj5o/Ye+d38fQDrAQcAdP0y+hX8uwA0AE8AngLsALkCjwQuAsMBAAPfALT82ALOA9QB\n",
       "DQlbBRz98P/mBc4GSgYOBhn/4vryAFsBM/zt+b33Mfrq/dX6SvfX+Cz8tP9fAbP/Yf0X+lX7DwBF\n",
       "AFoAxAJwAdAC2ASnAhIC1QJtAez82gHNA2IBHwi+BdP9QP/JBJQGCQYHBhEAG/s4AKsBIf3B+mX4\n",
       "QPoR/sD7FfjE+Lv7Ef/rAHb/Uf0I+oz6Lv8SACgAmAK1AbUC9AQWA2ICzAL8AXP9GAHwA0IBSAcu\n",
       "BqP+zv66A0IGvQXdBeEAYft3/7gB6/18+wr5VPon/pv89fjf+G/7kf6UAFn/UP0W+u/5Tf7M/+f/\n",
       "RgLhAYQC6gRpA6ICvwJvAhL+dgD7A04BgAaWBo7/jv7XAuQFgwWtBZgBuPuw/pUBgP4L/Jv5V/oa\n",
       "/ln91Pkd+Ur7M/5ZAGL/av1K+n/5d/1y/6H/2QHxAUACuQSjA84CtAK8AsL+6//1A3wBxQXcBnwA\n",
       "ff4IAoAFTgV2BS4CLvz9/VIB//6C/CX6Xfr0/fD9rPpr+TT76P0lAHn/k/2X+jX5qvwO/1f/WQHf\n",
       "AfEBZQS/A+ICogLkAm//hP/SA8gBHAUXB3YBq/5sAR8FNgVKBb0Cw/xs/fMAYf/s/J76XPq0/Vj+\n",
       "a/u++SD7oP3u/5f/xv32+h/5APyw/iP/6ADQAbYBCgTPA/ICkgLuAhAAMf+DAw4CfQQeB18C7v7l\n",
       "ALEEIgUjBTEDcv39/IYArP9I/Q/7Zvpm/Z3+HPwc+hj7ZP25/7b/AP5g+yn5avtH/u/+dgCsAX0B\n",
       "mwPPA/UChALdAqIAAf8eA1sC8QMIBzUDV/99AEAEFQUCBZQDMf7A/BQA7f+n/X77fvoW/cL+uPx+\n",
       "+g/7KP17/8v/N/7G+0756fre/cP+DgB8AVABLQPBA/UCdwLAAhsB8/6iApkCegPTBvYD1f83AM8D\n",
       "CgXuBOsD+/6s/KL/GgAA/uf7o/rF/Mn+P/3k+g778fw4/9f/bf4p/Iz5hvp1/Zr+tf9IATQBxAKr\n",
       "A/UCcgKdAoIBAv8bAsgCGgN6BpAEXQAAAFMD8ATXBCIEvv++/C7/NQBW/k381fp8/Lv+tv1U+xj7\n",
       "xPz2/tz/pP6L/Nr5NvoH/W3+Yf8CARQBVwKCA+wCZgJ2As0BLP+SAeUC1QISBhIF9QDu/+AC1ATO\n",
       "BFIEfgD6/Mr+QQCu/rL8FPtA/Jz+Fv7C+yj7lfyu/tL/0v7i/DT6Avqc/D/+HP+7AP4A9wFTA+cC\n",
       "YgJPAgICa/8RAegCpgKYBXEFjgHw/24CqQTEBG8EMgFU/W/+OAD8/g/9XPsQ/G/+Zf4y/ET7cPxs\n",
       "/sH///41/Zf65vk3/A3+4f5uAOkAoQEYA94CXAItAiACuf+dANQCiQIXBakFJAIGAAICcQS5BH4E\n",
       "zwHG/Sn+IwBI/2z9rfvz+zr+oP6i/Gz7Uvwt/qb/Jv+B/QD73/nX+9b9rP4fAM4AUwHSAs8CUgIP\n",
       "AikCCgA9AKcCewKaBMUFtAI2AKUBMQSzBIgEXQJP/vr9AQCM/8j9BPzk+wD+yf4O/Z37Ofzv/YH/\n",
       "Rv/F/Wf78fmB+5n9gf7T/7IAFQGJAsECTAL3ASQCXwD4/2cCdgIgBL4FOQNzAFEB4gOiBIUE0QLi\n",
       "/t790v/D/x3+W/zm+8P94f5y/dn7LPy6/Vn/Yv8G/tD7Ffo5+1z9W/6M/5AA3wA6AqsCQgLjARMC\n",
       "rQDI/xYCdQKwA50FrgO/AA0BjQOPBIEEMAN7/9/9nv/x/3H+tvz5+4z96f7Q/Rz8JfyJ/Sv/df9D\n",
       "/jX8S/r/+hr9OP5J/2gAtQDsAZECOQLVAfoB8ACz/7sBcQJNA2MFEQQXAd0AMgN1BHgEewMUAPb9\n",
       "Zv8RAL/+Df0Y/Fj94f4k/mf8KPxe/fv+f/95/pb8kPrV+tr8GP4P/z8AlQChAXECMALKAeABKQG0\n",
       "/10BaAL7AhYFXQRzAbsA1AJQBGgErgOmACP+L/8gAAb/Y/1C/C39z/5q/rb8Nfw6/cv+gv+u/vH8\n",
       "4Pq++pr8+f3e/hAAeABZAUwCJgLCAcMBUgHI//8AVAK5ArwEkwTTAasAdQIiBFkE0wMuAWT+/P4l\n",
       "AEv/t/12/Ar9sv6l/gj9Sfwc/Zv+f//b/kb9N/u3+l/82v20/uL/YgAbASICHQK9AasBbwHr/6sA\n",
       "NQKFAloEsgQyAqwAGgLpA0UE5wOoAbX+0f4YAIT/Bf6v/PL8jv7R/lj9aPwG/W3+c/8F/5b9lfvD\n",
       "+in8uv2U/rT/TwDlAPQBEgK6AZUBfwEZAGQACwJeAvYDuQSLAroAxQGnAy0E7QMQAhL/sv4CALX/\n",
       "Tf7t/OT8ZP7w/qf9jvz0/EL+Yv8q/+D99vvg+vz7mf15/of/PQC4AMYBCAK3AYQBhQFMACwA1QFA\n",
       "ApQDqgTeAtgAeQFeAw8E6QNnAnX/n/7i/93/kv4u/eD8OP4C//P9uvzp/Br+S/9I/yb+VvwK+9r7\n",
       "ef1l/l7/LACWAJUB/AG3AXkBhAGAAAUAmAEnAjcDigQmAwABNwENA+sD3QOrAt7/m/65//f/0f5v\n",
       "/ej8C/4G/zb+7fzm/Pb9L/9h/2X+tfxD+8L7WP1V/jz/GQB9AGYB7gG3AXIBfgGxAPL/VgEQAuMC\n",
       "VgRiAzABAAG3AsMDygPdAkMApf6N/wgACf+t/fn84f3+/nL+JP3q/Nb9EP9x/5/+Ev2H+7X7OP1J\n",
       "/h7/BQBpADoB3QG5AXABdAHdAPH/EwH5AZoCFQSPA2gB2ABgApEDsgP+AqYAvf5e/wwAO//q/RH9\n",
       "vP3t/qX+X/3y/Lr98P57/9T+av3U+7b7Gf09/gb/8f9eABEBygG6AXEBawECAf3/0QDeAVwCywOr\n",
       "A6IBvQAKAlsDlgMRAwEB5f4z/wUAaP8l/jD9nf3U/s7+mv0D/aP9zf5+/wP/u/0o/MT7/vwz/vX+\n",
       "3P9WAO0AtQG9AXUBYwEeARUAlgC+ASkCfAO3A9wBrwC2ARwDdQMXA1EBFf8N//X/jP9b/lT9hf20\n",
       "/uz+1f0Z/ZD9rv56/y//CP5//Nz76fwm/uv+x/9SAM4AnQG7AXsBWQE1ATUAZQCWAQICKgOzAxMC\n",
       "rABoAdgCVQMRA5gBTf/1/tf/sP+J/ob9bP2a/vX+G/4o/ZP9e/6H/zn/cf4AAA==\n",
       "\" type=\"audio/wav\" />\n",
       "        Your browser does not support the audio element.\n",
       "        </audio>\n",
       "        </body>\n",
       "        "
      ],
      "text/plain": [
       "<IPython.core.display.HTML object>"
      ]
     },
     "metadata": {},
     "output_type": "display_data"
    },
    {
     "data": {
      "text/plain": [
       "[<matplotlib.lines.Line2D at 0x10b1bdb50>]"
      ]
     },
     "execution_count": 6,
     "metadata": {},
     "output_type": "execute_result"
    },
    {
     "data": {
      "image/png": "[encoded data removed]",
      "text/plain": [
       "<matplotlib.figure.Figure at 0x10af1f350>"
      ]
     },
     "metadata": {},
     "output_type": "display_data"
    }
   ],
   "source": [
    "play(mySound)\n",
    "plot(mySound)"
   ]
  },
  {
   "cell_type": "markdown",
   "metadata": {},
   "source": [
    "d. Compute and plot the magnitude spectrum of your sound, using the same procedure as in Part 1. Hint: you can use the `size()` function to determine the size (i.e., number of samples) of your sound array."
   ]
  },
  {
   "cell_type": "code",
   "execution_count": 8,
   "metadata": {},
   "outputs": [
    {
     "data": {
      "text/plain": [
       "[<matplotlib.lines.Line2D at 0x10b4d4690>]"
      ]
     },
     "execution_count": 8,
     "metadata": {},
     "output_type": "execute_result"
    },
    {
     "data": {
      "image/png": "[encoded data removed]",
      "text/plain": [
       "<matplotlib.figure.Figure at 0x10b3fd550>"
      ]
     },
     "metadata": {},
     "output_type": "display_data"
    }
   ],
   "source": [
    "spectrum = fft.fft(mySound);\n",
    "magspectrum = abs(spectrum)\n",
    "plot(magspectrum[0:50]) "
   ]
  },
  {
   "cell_type": "markdown",
   "metadata": {},
   "source": [
    "Try this out for different sounds. Or, try it for different locations in your sound. For example, do the first 1024 samples of your sound have the same spectrum as the last 1024 samples?"
   ]
  },
  {
   "cell_type": "code",
   "execution_count": null,
   "metadata": {
    "collapsed": true
   },
   "outputs": [],
   "source": []
  },
  {
   "cell_type": "markdown",
   "metadata": {},
   "source": [
    "Optionally, if you're happy with this and want to keep exploring, try using the `max` and `argmax` functions to pick out the peaks in the FFT spectrum. Don't forget you can type `?argmax` to read about the function syntax and usage."
   ]
  },
  {
   "cell_type": "code",
   "execution_count": null,
   "metadata": {
    "collapsed": true
   },
   "outputs": [],
   "source": []
  },
  {
   "cell_type": "markdown",
   "metadata": {},
   "source": [
    "## Part 3: Exploring aliasing ##\n",
    "\n",
    "Generate the following signals:\n",
    "* s1: An 1800Hz sine tone, sampled at 44100Hz\n",
    "* s2: An 1800Hz sine tone, sampled at 4000Hz\n",
    "* s3: An 1800Hz sine tone, sampled at 3000Hz\n",
    "\n",
    "\n",
    "Which of these signals will alias? Which frequencies will you actually hear, for each signal? Write your answer below.\n",
    "\n"
   ]
  },
  {
   "cell_type": "markdown",
   "metadata": {},
   "source": [
    "(Double-click on this cell and type your answer.)"
   ]
  },
  {
   "cell_type": "markdown",
   "metadata": {},
   "source": [
    "\n",
    "Now play these signals, using the following syntax to play a signal with a custom sample rate (other than 44100):"
   ]
  },
  {
   "cell_type": "code",
   "execution_count": null,
   "metadata": {
    "scrolled": true
   },
   "outputs": [],
   "source": [
    "play(s3, rate=1000) #specify rate if it's not 44100 "
   ]
  },
  {
   "cell_type": "markdown",
   "metadata": {},
   "source": [
    "Comment on what you hear:"
   ]
  },
  {
   "cell_type": "markdown",
   "metadata": {},
   "source": [
    "(Double-click on this cell and type your answer.)"
   ]
  },
  {
   "cell_type": "markdown",
   "metadata": {},
   "source": [
    "Now record a real-world sound (e.g., using Audacity), or find a .wav or .aiff file (not an MP3) of some music. (The sample rate for this file should be 44100Hz.) Load it into an array using the function `wavReadMono`. Play the sound to verify it has loaded correctly."
   ]
  },
  {
   "cell_type": "code",
   "execution_count": null,
   "metadata": {
    "collapsed": true
   },
   "outputs": [],
   "source": [
    "?wavReadMono #use this function"
   ]
  },
  {
   "cell_type": "markdown",
   "metadata": {},
   "source": [
    "Now change the sample rate from 44100Hz to 22050Hz by storing every other sample of the sound in a new array called `downsample1`.  Then play this new array, using the syntax `play(downsample1, rate=22050`:"
   ]
  },
  {
   "cell_type": "code",
   "execution_count": null,
   "metadata": {
    "collapsed": true
   },
   "outputs": [],
   "source": []
  },
  {
   "cell_type": "markdown",
   "metadata": {},
   "source": [
    "Do you hear a difference? Comment below. (Note that if you hear the overall pitch change, you've probably forgotten to specify the rate explicitly in the `play` function)"
   ]
  },
  {
   "cell_type": "markdown",
   "metadata": {},
   "source": [
    "(Type your answer here)"
   ]
  },
  {
   "cell_type": "markdown",
   "metadata": {},
   "source": [
    "Continue to lower the sample rate. Try keeping only 1 of every 3 samples, or 1 of every 4 samples, etc. Show your work below. At what point does the sound noticeably change?"
   ]
  },
  {
   "cell_type": "markdown",
   "metadata": {},
   "source": []
  },
  {
   "cell_type": "markdown",
   "metadata": {},
   "source": [
    "Finally, please write some code below to:\n",
    "\n",
    "(1) generate a signal by adding 3 sine waves of different frequencies.\n",
    "\n",
    "(2) plot the FFT of this signal, verifying that you see a peak at each frequency\n",
    "\n",
    "(3) add a 4th sine wave to this signal, but at a frequency above the Nyquist rate\n",
    "\n",
    "(4) plot the FFT of this new signal, noting where you see the aliased frequency."
   ]
  },
  {
   "cell_type": "code",
   "execution_count": null,
   "metadata": {
    "collapsed": true
   },
   "outputs": [],
   "source": []
  }
 ],
 "metadata": {
  "kernelspec": {
   "display_name": "Python 2",
   "language": "python",
   "name": "python2"
  },
  "language_info": {
   "codemirror_mode": {
    "name": "ipython",
    "version": 2
   },
   "file_extension": ".py",
   "mimetype": "text/x-python",
   "name": "python",
   "nbconvert_exporter": "python",
   "pygments_lexer": "ipython2",
   "version": "2.7.13"
  }
 },
 "nbformat": 4,
 "nbformat_minor": 1
}
