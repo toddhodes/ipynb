{
 "cells": [
  {
   "cell_type": "markdown",
   "metadata": {},
   "source": [
    "# Lab Week 14: FFT analysis, continued; music & expectation\n",
    "\n",
    "### 8 February 2017\n",
    "\n",
    "# Goals #\n",
    "\n",
    "In this lab, you should be able to:\n",
    "* Gain practice reasoning about perceived sound from spectograms\n",
    "* Use FFT with ease to compute pitch information for an audio signal\n",
    "* Reason about how music affects you when it satisfies or breaks your schematic expectations\n",
    "\n",
    "# 0.1 Are you still set up to use Jupyter & Python?\n",
    "\n",
    "Don't forget that you'll need the Lab Bundle installed in order to do this lab. To use the lab computers, you'll just need to do this once, and it will be installed for your account no matter which machine you use. \n",
    "\n",
    "The easy way to check if your installation is correct is to check whether your Notebook can find the `play` command: "
   ]
  },
  {
   "cell_type": "code",
   "execution_count": 1,
   "metadata": {
    "collapsed": false
   },
   "outputs": [],
   "source": [
    "?play"
   ]
  },
  {
   "cell_type": "markdown",
   "metadata": {},
   "source": [
    "Executing the line above should pop up an information window at the bottom of your screen. If instead you get the message __Object play not found__, then you need to follow the instructions to install the lab bundle on learn.gold: https://learn.gold.ac.uk/course/view.php?id=6181\n"
   ]
  },
  {
   "cell_type": "markdown",
   "metadata": {},
   "source": [
    "# 0.2. Are you caught up on labs?\n",
    "\n",
    "By now, you should find it easy to:\n",
    "\n",
    "1. Synthesize a sine wave with an arbitrary amplitude, frequency, and phase offset, then play that wave back. If you don't know how to to this, revisit Labs 11 and 12.\n",
    "2. Compute and plot an FFT of an arbitrary 1-dimensional signal (e.g. an audio wave). If you don't know how to do this, make sure you've worked through Labs 12 and 13."
   ]
  },
  {
   "cell_type": "markdown",
   "metadata": {},
   "source": [
    "# Part 1: Spectogram forensics\n",
    "\n",
    "Grab a PDF showing three pairs of waveforms and spectograms from http://www.doc.gold.ac.uk/~mas01rf/PMC2016-17/lab14/worksheet_spectra.pdf. For each one, work with a small group to come up with a proposal for what each sound will sound like, and what you believe is the source of the sound.\n",
    "\n",
    "Questions you might consider:\n",
    "* Is the sound pitched or unpitched?\n",
    "* How does the sound change in pitch or volume over time?\n",
    "* Is it a real-world sound or is it synthesised?\n",
    "* How many sounds will you hear? How does this change over time?\n",
    "* Does the sound have a musical rhythm or meter? (e.g., is there a pattern to when events happen over time, or to how loud they are over time?)\n",
    "* Might it be a musical instrument, speech, singing, a sound in nature, ... ?\n",
    "\n",
    "Record your reasoning in the space below, using markdown."
   ]
  },
  {
   "cell_type": "markdown",
   "metadata": {},
   "source": [
    "Write your answer here."
   ]
  },
  {
   "cell_type": "markdown",
   "metadata": {},
   "source": [
    "# Part 2: Frequency Analysis Using the FFT #\n",
    "\n",
    "a. Download the following audio files to your machine (e.g., by right-clicking or control-clicking): \n",
    "\n",
    "* http://www.doc.gold.ac.uk/~mas01rf/PMC2016-17/lab14/file1.wav\n",
    "* http://www.doc.gold.ac.uk/~mas01rf/PMC2016-17/lab14/file2.wav\n",
    "* http://www.doc.gold.ac.uk/~mas01rf/PMC2016-17/lab14/file3.wav\n",
    "* http://www.doc.gold.ac.uk/~mas01rf/PMC2016-17/lab14/file4.wav\n",
    "\n",
    "b. Load each file into an array variable using the following syntax: \n",
    "*(You will have to use a different path on your machine)*"
   ]
  },
  {
   "cell_type": "code",
   "execution_count": 1,
   "metadata": {
    "collapsed": false
   },
   "outputs": [],
   "source": [
    "#Something like this\n",
    "file1 = wavReadMono(\"/Users/rebecca/Desktop/file1.wav\")\n",
    "file2 = wavReadMono(\"/Users/rebecca/Desktop/file2.wav\")\n",
    "file3 = wavReadMono(\"/Users/rebecca/Desktop/file3.wav\")\n",
    "file4 = wavReadMono(\"/Users/rebecca/Desktop/file4.wav\")"
   ]
  },
  {
   "cell_type": "markdown",
   "metadata": {},
   "source": [
    "c. Knowing that the sample rate for these files is 44100Hz, use the FFT and related techniques from last week's lab to answer the following questions:\n",
    "\n",
    "#### 1. file1.wav contains a single sine wave. What frequency is it? ####\n",
    "\n",
    "Hint 1: Remember you can use the `fft.fftfreq` function to get the frequencies associated with each FFT bin (see last week's lab, or type `?fft.fftfreq` for more information).\n",
    "\n",
    "Hint 2: You can use the `argmax()` function to find the index of the maximum element in an array. Type `?argmax` for more information."
   ]
  },
  {
   "cell_type": "code",
   "execution_count": null,
   "metadata": {
    "collapsed": false
   },
   "outputs": [],
   "source": []
  },
  {
   "cell_type": "markdown",
   "metadata": {},
   "source": [
    "#### 2. file2.wav contains a square wave. What is its fundamental frequency? ####"
   ]
  },
  {
   "cell_type": "code",
   "execution_count": null,
   "metadata": {
    "collapsed": false
   },
   "outputs": [],
   "source": []
  },
  {
   "cell_type": "markdown",
   "metadata": {},
   "source": [
    "#### 3. file3.wav contains two sine tones. What frequencies are they? ####"
   ]
  },
  {
   "cell_type": "code",
   "execution_count": null,
   "metadata": {
    "collapsed": false
   },
   "outputs": [],
   "source": []
  },
  {
   "cell_type": "markdown",
   "metadata": {},
   "source": [
    "#### 4. Optional (advanced): Real-world voice analysis\n",
    "\n",
    "file4.wav contains two spoken vowels. Try using Python to do some preliminary analysis, using both the time-domain signal (i.e., the waveform) and the FFT. For instance:\n",
    "* What is the fundamental frequency of these vowels?\n",
    "* At what time does the second vowel begin to be spoken?\n",
    "* How might you computationally determine which vowels are spoken?\n",
    "\n",
    "Hints:\n",
    "* Don't forget that you can take the FFT of the whole file, or take the FFT of a smaller segment of the file. (Or, you could take the FFT of smaller segments at different timepoints!)\n",
    "* You may want to read about formant frequencies at https://en.wikipedia.org/wiki/Formant"
   ]
  },
  {
   "cell_type": "code",
   "execution_count": null,
   "metadata": {
    "collapsed": true
   },
   "outputs": [],
   "source": []
  },
  {
   "cell_type": "markdown",
   "metadata": {},
   "source": [
    "# Part 3: Musical expectation\n",
    "\n",
    "Choose a recording of a piece of music from YouTube, Spotify, or SoundCloud. Listen to it and respond to the following prompts:\n",
    "\n",
    "1. Provide a URL or other identifying information for the song, so we can find exactly the same version as you.\n",
    "1. Name three things this piece of music does to satisfy schematic musical expectations over time, along with the timepoint of each one. That is, you should name three things it does which are typical of music of this genre. This could be the way one melody note follows another, the way a harmonic sequence unfolds, the way a rhythmic section is played, or something else. (Use specific music theory terminology if you can, but otherwise just describe what you hear as precisely as you're able.)\n",
    "1. Name one or two things this music does that is surprising in light of schematic musical expectations, along with the timepoint(s). Also describe the effect this has on you, personally, as a listener. \n",
    "1. In addition to breaking your expectations at some points, does the music do anything else to increase or maintain arousal or attention? This could relate to the tempo/speed, volume, instrumentation/timbre, or any number of other things."
   ]
  },
  {
   "cell_type": "code",
   "execution_count": null,
   "metadata": {
    "collapsed": true
   },
   "outputs": [],
   "source": []
  }
 ],
 "metadata": {
  "kernelspec": {
   "display_name": "Python 2",
   "language": "python",
   "name": "python2"
  },
  "language_info": {
   "codemirror_mode": {
    "name": "ipython",
    "version": 2
   },
   "file_extension": ".py",
   "mimetype": "text/x-python",
   "name": "python",
   "nbconvert_exporter": "python",
   "pygments_lexer": "ipython2",
   "version": "2.7.11"
  }
 },
 "nbformat": 4,
 "nbformat_minor": 0
}
